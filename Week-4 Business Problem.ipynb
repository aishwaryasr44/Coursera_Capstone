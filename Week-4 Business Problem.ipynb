{
 "cells": [
  {
   "cell_type": "markdown",
   "metadata": {},
   "source": [
    "# Week- 4 Business Problem"
   ]
  },
  {
   "cell_type": "markdown",
   "metadata": {},
   "source": [
    "### Introduction"
   ]
  },
  {
   "cell_type": "markdown",
   "metadata": {},
   "source": [
    "Toronto is a major Canadian city, having large number of immigrants coming every year. Choosing the correct neighbourhood on a foreign land after considering several major factors like the locality, nearby places, schools for kids, etc. is big decision to make. This Project will help people moving in to Toronto in choosing their neighborhood depending on the facilities in that area. This will help people to make smart and efficient decision on selecting great neighborhood out of a number of other neighborhoods present in Toronto.\n",
    "\n",
    "Several people migrating to Toronto do a lot of research for good housing prices and reputated schools for their children. This project is for those people who are looking for better neighborhoods. For ease of accessing to cafe, school, super market, medical shops, grocery shops, mall, theatre, hospital, like minded people, etc.\n",
    "\n",
    "While relocating for entire life, and in most cases along with your family, to a new country is extremely challenging; Toronto is a city that offers amazing opportunities for those that live here. Whether you are coming to live in Canada to create a better life for your family, or fleeing war and persecution in your homeland, Toronto prides itself as being a great place for a fresh start.\n",
    "\n",
    "This Project aims to create an analysis of features for a people migrating to Toronto to search a best neighborhood as a comparative analysis between neighborhoods. The features include median housing price and better school according to ratings, crime rates of that particular area, road connectivity, weather conditions, good management for emergency, water resources, etc."
   ]
  },
  {
   "cell_type": "markdown",
   "metadata": {},
   "source": [
    "### Problem Statement"
   ]
  },
  {
   "cell_type": "markdown",
   "metadata": {},
   "source": [
    "The major purpose of this project is to suggest a better neighborhood in Toronto for the person who are shiffting there. The analysis is based on the following:\n",
    "\n",
    "1. Sorted list of house in terms of housing prices in a ascending or descending order\n",
    "2. Sorted list of schools in terms of location, fees, rating and reviews\n",
    "3. Neaby venues in the locality like cafes, restaurants, movie theaters, recreation centers, etc."
   ]
  },
  {
   "cell_type": "markdown",
   "metadata": {},
   "source": [
    "### Location"
   ]
  },
  {
   "cell_type": "markdown",
   "metadata": {},
   "source": [
    "Toronto is the provincial capital of Ontario and the most populous city in Canada, with an estimated population of 2,956,024 (2018) and an estimated population of 6,341,935 in the Toronto Region. For the past 70 years, while Ontario has received the highest number of immigrants of any province or territory, Toronto has been the hot spot for these newcomers.\n",
    "\n",
    "Moreover, Toronto has a low crime rate, huge residential neighbourhoods that are located in the heart of the city near public transport and services, great public schools, public healthcare, and plenty of public services geared towards immigrants. These things all serve to make the adjustment to a new life easier."
   ]
  },
  {
   "cell_type": "markdown",
   "metadata": {},
   "source": [
    "### Foursquare API"
   ]
  },
  {
   "cell_type": "markdown",
   "metadata": {},
   "source": [
    "This project would use Four-square API as its prime data gathering source as it has a database of millions of places, especially their APIs which provides the ability to perform location search, location sharing and details about a business. The API itself is a RESTful set of addresses to which you can send requests, so there's really nothing to download onto your server."
   ]
  },
  {
   "cell_type": "markdown",
   "metadata": {},
   "source": [
    "### Work Flow"
   ]
  },
  {
   "cell_type": "markdown",
   "metadata": {},
   "source": [
    "Using credentials of Foursquare API features of near-by places of the neighborhoods would be mined. Due to http request limitations the number of places per neighborhood parameter would reasonably be set to 100 and the radius parameter would be set to 500.\n",
    "\n",
    "To compare the similarities of multiple neighbourhoods, we decided to explore neighborhoods, segment them, and group them into clusters to find similar neighborhoods in a big city like Toronto. To be able to do that, we need to cluster data which is a form of unsupervised machine learning: k-means clustering algorithm."
   ]
  },
  {
   "cell_type": "markdown",
   "metadata": {},
   "source": [
    "### Libraries Used"
   ]
  },
  {
   "cell_type": "markdown",
   "metadata": {},
   "source": [
    "Pandas: For creating and manipulating dataframes.\n",
    "\n",
    "Folium: Python visualization library would be used to visualize the neighborhoods cluster distribution of using interactive leaflet map.\n",
    "\n",
    "Scikit Learn: For importing k-means clustering.\n",
    "\n",
    "JSON: Library to handle JSON files.\n",
    "\n",
    "XML: To separate data from presentation and XML stores data in plain text format.\n",
    "\n",
    "Geocoder: To retrieve Location Data.\n",
    "\n",
    "Beautiful Soup and Requests: To scrap and library to handle http requests.\n",
    "\n",
    "Matplotlib: Python Plotting Module."
   ]
  },
  {
   "cell_type": "markdown",
   "metadata": {},
   "source": [
    "### Conclusion"
   ]
  },
  {
   "cell_type": "markdown",
   "metadata": {},
   "source": [
    "To sum up, the migrants to Toronto will be benefited from this project in making a neighbourhood choice at a new place. It will help people to get awareness of the area and neighborhood before moving to a new city, state, country or place for their work or to start a fresh life."
   ]
  }
 ],
 "metadata": {
  "kernelspec": {
   "display_name": "Python 3",
   "language": "python",
   "name": "python3"
  },
  "language_info": {
   "codemirror_mode": {
    "name": "ipython",
    "version": 3
   },
   "file_extension": ".py",
   "mimetype": "text/x-python",
   "name": "python",
   "nbconvert_exporter": "python",
   "pygments_lexer": "ipython3",
   "version": "3.7.6"
  }
 },
 "nbformat": 4,
 "nbformat_minor": 4
}
